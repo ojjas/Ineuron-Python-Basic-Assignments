{
 "cells": [
  {
   "cell_type": "markdown",
   "metadata": {},
   "source": [
    "# 1. In the below elements which of them are values or an expression? eg:- values can be integer or string and expressions will be mathematical operators."
   ]
  },
  {
   "cell_type": "markdown",
   "metadata": {},
   "source": [
    "## ANSWER:\n",
    "####       *       ----->     Expression\n",
    "####    'hello' ----->      Value\n",
    "####    -87.8   ----->     \n",
    "####       -       ----->     Expression\n",
    "####       /       ----->     Expression\n",
    "####      +       ----->    Expression\n",
    "####       6      ----->      Value"
   ]
  },
  {
   "cell_type": "markdown",
   "metadata": {},
   "source": [
    "# 2. What is the difference between string and variable?"
   ]
  },
  {
   "cell_type": "markdown",
   "metadata": {},
   "source": [
    "## ANSWER:\n",
    "### 1. A *variable* is a container that stores information whereas a *string* is a data type or type of information that that can be stored inside a variable.\n",
    "### 2. A *variable* containing *string* can be declared using \"\"                  (double quotes) or    ''(single quotes).\n",
    "### Example ---> x = \"Ball\"\n",
    "### Here \"Ball\" is a string which is assigned to variable x. So x is a string variable."
   ]
  },
  {
   "cell_type": "code",
   "execution_count": 1,
   "metadata": {},
   "outputs": [
    {
     "data": {
      "text/plain": [
       "str"
      ]
     },
     "execution_count": 1,
     "metadata": {},
     "output_type": "execute_result"
    }
   ],
   "source": [
    "x = \"Ball\"\n",
    "type(x)"
   ]
  },
  {
   "cell_type": "markdown",
   "metadata": {},
   "source": [
    "# 3. Describe three different data types."
   ]
  },
  {
   "cell_type": "markdown",
   "metadata": {},
   "source": [
    "## ANSWER:\n",
    "### Integers- It is represented by int class and contains positive or negative whole numbers. For example, x = -1234\n",
    "\n",
    "### Float- It is represented by float class and contains real numbers with floating point. For example, y = 1.2\n",
    "\n",
    "### String- In Python, Strings are arrays of bytes representing Unicode characters. However, Python does not have a character data type, a single character is simply a string with a length of 1. Strings in Python can be created using single quotes or double quotes or even triple quotes. For example, z = \"string\" or z = \"10\"\n"
   ]
  },
  {
   "cell_type": "code",
   "execution_count": 2,
   "metadata": {},
   "outputs": [
    {
     "name": "stdout",
     "output_type": "stream",
     "text": [
      "<class 'int'>\n",
      "<class 'float'>\n",
      "<class 'str'>\n"
     ]
    }
   ],
   "source": [
    "x = -123\n",
    "print(type(x))\n",
    "\n",
    "y = 1.3\n",
    "print(type(y))\n",
    "\n",
    "z = \"string\"\n",
    "print(type(z))"
   ]
  },
  {
   "cell_type": "markdown",
   "metadata": {},
   "source": [
    "# 4. What is an expression made up of? What do all expressions do?"
   ]
  },
  {
   "cell_type": "markdown",
   "metadata": {},
   "source": [
    "## ANSWER:\n",
    "### Expression just represents something like numbers , strings , instance, any value can be the expression.\n",
    "### Eg: var= \"ball\" ----> var is a variable which stores string \"ball\", whereas, \"ball\"-----> It is an expression, as nothing is evaluated here."
   ]
  },
  {
   "cell_type": "markdown",
   "metadata": {},
   "source": [
    "# 5. This assignment statements, like spam = 10. What is the difference between an expression and a statement?"
   ]
  },
  {
   "cell_type": "markdown",
   "metadata": {},
   "source": [
    "## ANSWER:\n",
    "### spam = 10, here 10 is an expression. spam is a variable which stores integer value 10, so assigning the value 10 to a variable spam is known as declaration of a variable."
   ]
  },
  {
   "cell_type": "markdown",
   "metadata": {},
   "source": [
    "# 6. After running the following code, what does the variable bacon contain?\n",
    "# bacon = 22\n",
    "# bacon + 1"
   ]
  },
  {
   "cell_type": "code",
   "execution_count": 3,
   "metadata": {},
   "outputs": [
    {
     "name": "stdout",
     "output_type": "stream",
     "text": [
      "23\n"
     ]
    }
   ],
   "source": [
    "bacon = 22\n",
    "bacon+=1\n",
    "print(bacon)\n",
    "# it will increment by 1."
   ]
  },
  {
   "cell_type": "markdown",
   "metadata": {},
   "source": [
    "# 7. What should the values of the following two terms be?\n",
    "# 'spam'+'spamspam'\n",
    "# 'spam'*3"
   ]
  },
  {
   "cell_type": "markdown",
   "metadata": {},
   "source": [
    "## ANSWER:\n",
    "### Both will give the same result.That is 'spam' will be printed 3 times in both the situation. "
   ]
  },
  {
   "cell_type": "code",
   "execution_count": 6,
   "metadata": {},
   "outputs": [
    {
     "name": "stdout",
     "output_type": "stream",
     "text": [
      "spamspamspam\n",
      "spamspamspam\n"
     ]
    }
   ],
   "source": [
    "c='spam'+'spamspam'\n",
    "print(c)\n",
    "print('spam'*3)"
   ]
  },
  {
   "cell_type": "markdown",
   "metadata": {},
   "source": [
    "# 8. Why is eggs a valid variable name while 100 is invalid?"
   ]
  },
  {
   "cell_type": "markdown",
   "metadata": {},
   "source": [
    "## ANSWER:\n",
    "### Because in python or any programming language it will not allowed to use variable name as a integer value.whether any string value or character we can use to store the value.That is it will throw Syntax error."
   ]
  },
  {
   "cell_type": "code",
   "execution_count": 7,
   "metadata": {},
   "outputs": [
    {
     "ename": "SyntaxError",
     "evalue": "cannot assign to literal (<ipython-input-7-eeb7288892ee>, line 4)",
     "output_type": "error",
     "traceback": [
      "\u001b[1;36m  File \u001b[1;32m\"<ipython-input-7-eeb7288892ee>\"\u001b[1;36m, line \u001b[1;32m4\u001b[0m\n\u001b[1;33m    100 = \"egg\"\u001b[0m\n\u001b[1;37m    ^\u001b[0m\n\u001b[1;31mSyntaxError\u001b[0m\u001b[1;31m:\u001b[0m cannot assign to literal\n"
     ]
    }
   ],
   "source": [
    "# For example:\n",
    "egg = 100\n",
    "print(a)\n",
    "100 = \"egg\"\n",
    "print(100)"
   ]
  },
  {
   "cell_type": "markdown",
   "metadata": {},
   "source": [
    "# 9. What three functions can be used to get the integer, floating-point number, or string version of a value?"
   ]
  },
  {
   "cell_type": "markdown",
   "metadata": {},
   "source": [
    "## ANSWER:\n",
    "### int() , float() and str() can be used to convert a value into respective datatype."
   ]
  },
  {
   "cell_type": "code",
   "execution_count": 13,
   "metadata": {},
   "outputs": [
    {
     "name": "stdout",
     "output_type": "stream",
     "text": [
      "integer value: 10\n",
      "<class 'int'>\n",
      "float value: 10.0\n",
      "<class 'float'>\n",
      "string value: 10\n",
      "<class 'str'>\n"
     ]
    }
   ],
   "source": [
    "#For example:\n",
    "value = 10\n",
    "\n",
    "print(f\"integer value: {int(value)}\")\n",
    "print(type(int(value)))\n",
    "\n",
    "print(f\"float value: {float(value)}\")\n",
    "print(type(float(value)))\n",
    "\n",
    "print(f\"string value: {str(value)}\")\n",
    "print(type(str(value)))"
   ]
  },
  {
   "cell_type": "markdown",
   "metadata": {},
   "source": [
    "# 10. Why does this expression cause an error? How can you fix it?\n",
    "# \"I have eaten \" + 99 + \" burritos.\""
   ]
  },
  {
   "cell_type": "markdown",
   "metadata": {},
   "source": [
    "## ANSWER:\n",
    "### we can only contanicate of same data type in python.But here 99 is an integer object.so we have to cast in into the string i.e. str(99).Otherwise it will throw TypeError: can only concatenate str (not \"int\") to str."
   ]
  },
  {
   "cell_type": "code",
   "execution_count": 17,
   "metadata": {},
   "outputs": [
    {
     "name": "stdout",
     "output_type": "stream",
     "text": [
      "I have eaten 99 burritos.\n"
     ]
    }
   ],
   "source": [
    "#string contancate\n",
    "print(\"I have eaten \" + str(99) + \" burritos.\")"
   ]
  }
 ],
 "metadata": {
  "kernelspec": {
   "display_name": "Python 3",
   "language": "python",
   "name": "python3"
  },
  "language_info": {
   "codemirror_mode": {
    "name": "ipython",
    "version": 3
   },
   "file_extension": ".py",
   "mimetype": "text/x-python",
   "name": "python",
   "nbconvert_exporter": "python",
   "pygments_lexer": "ipython3",
   "version": "3.8.3"
  }
 },
 "nbformat": 4,
 "nbformat_minor": 4
}
