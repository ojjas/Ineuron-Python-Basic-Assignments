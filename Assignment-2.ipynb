{
 "cells": [
  {
   "cell_type": "markdown",
   "metadata": {},
   "source": [
    "# 1.What are the two values of the Boolean data type? How do you write them?"
   ]
  },
  {
   "cell_type": "markdown",
   "metadata": {},
   "source": [
    "## ANSWER:\n",
    "### True and False are two values of boolean data types."
   ]
  },
  {
   "cell_type": "code",
   "execution_count": 2,
   "metadata": {},
   "outputs": [
    {
     "name": "stdout",
     "output_type": "stream",
     "text": [
      "<class 'bool'>\n",
      "<class 'bool'>\n",
      "1\n"
     ]
    }
   ],
   "source": [
    "a= True\n",
    "print(type(a))\n",
    "b= False\n",
    "print(type(b))\n",
    "\n",
    "#In python true value is 1 and false value is 0.\n",
    "ans= True+False\n",
    "print(ans)"
   ]
  },
  {
   "cell_type": "markdown",
   "metadata": {},
   "source": [
    "# 2. What are the three different types of Boolean operators?"
   ]
  },
  {
   "cell_type": "markdown",
   "metadata": {},
   "source": [
    "## ANSWER:\n",
    "###  Three different types of boolean operators: 1)And  2)Or  3)Not"
   ]
  },
  {
   "cell_type": "code",
   "execution_count": 10,
   "metadata": {},
   "outputs": [
    {
     "name": "stdout",
     "output_type": "stream",
     "text": [
      "a= 0\n",
      "b= 1\n",
      "'And' operator:  0\n",
      "'Or' operator:  1\n",
      "'Not' of a:  True\n"
     ]
    }
   ],
   "source": [
    "a = 0 \n",
    "b = 1\n",
    "print(\"a= 0\\n\" \"b= 1\")\n",
    "\n",
    "# And \n",
    "and_operator = a and b\n",
    "print(\"'And' operator: \",and_operator)\n",
    "\n",
    "#Or\n",
    "or_operator = a or b\n",
    "print(\"'Or' operator: \",or_operator)\n",
    "\n",
    "#Not\n",
    "not_operator = not a\n",
    "print(\"'Not' of a: \",not_operator)"
   ]
  },
  {
   "cell_type": "markdown",
   "metadata": {},
   "source": [
    "# 3. Make a list of each Boolean operator&#39;s truth tables (i.e. every possible combination of Boolean values for the operator and what it evaluate )."
   ]
  },
  {
   "cell_type": "markdown",
   "metadata": {},
   "source": [
    "## ANSWER:\n",
    "### Three boolean operators in the python are: And, Or, Not"
   ]
  },
  {
   "cell_type": "code",
   "execution_count": 14,
   "metadata": {},
   "outputs": [
    {
     "name": "stdout",
     "output_type": "stream",
     "text": [
      "And operator\n",
      "-------------------------------\n",
      "|True |and|True|--> True\n",
      "|True |and|False|--> False\n",
      "|False|and|False|--> False\n",
      "|False|and|True|--> False\n",
      "\n",
      "\n",
      "Or operator\n",
      "-------------------------------\n",
      "|True |or|True |--> True\n",
      "|True |or|False|--> True\n",
      "|False|or|False|--> False\n",
      "|False|or|True |--> True\n",
      "\n",
      "\n",
      "Not operator\n",
      "-------------------------------\n",
      "negation a: False\n",
      "negation b: True\n"
     ]
    }
   ],
   "source": [
    "c=True\n",
    "d=False\n",
    "\n",
    "# and operator\n",
    "print(\"And operator\")\n",
    "print(\"-------------------------------\")\n",
    "print(\"|True |and|True|-->\",True and True)\n",
    "print(\"|True |and|False|-->\",True and False)\n",
    "print(\"|False|and|False|-->\",False and False)\n",
    "print(\"|False|and|True|-->\",False and True)\n",
    "print(\"\\n\")\n",
    "\n",
    "#or operator\n",
    "print(\"Or operator\")\n",
    "print(\"-------------------------------\")\n",
    "print(\"|True |or|True |-->\",True or True)\n",
    "print(\"|True |or|False|-->\",True or False)\n",
    "print(\"|False|or|False|-->\",False or False)\n",
    "print(\"|False|or|True |-->\",False or True)\n",
    "print(\"\\n\")\n",
    "\n",
    "#not operator\n",
    "a=True\n",
    "b=False\n",
    "print(\"Not operator\")\n",
    "print(\"-------------------------------\")\n",
    " \n",
    "print(\"negation a:\",not a)\n",
    "print(\"negation b:\",not b)"
   ]
  },
  {
   "cell_type": "markdown",
   "metadata": {},
   "source": [
    "# 4. What are the values of the following expressions?"
   ]
  },
  {
   "cell_type": "code",
   "execution_count": 15,
   "metadata": {},
   "outputs": [
    {
     "name": "stdout",
     "output_type": "stream",
     "text": [
      "(5 > 4) and (3 == 5)--->ans: False\n",
      "\n",
      "\n",
      "not (5 > 4)-->ans: False\n",
      "\n",
      "\n",
      "(5 > 4) or (3 == 5)-->ans: True\n",
      "\n",
      "\n",
      "not ((5 > 4) or (3 == 5))-->ans: False\n",
      "\n",
      "\n",
      "(True and True) and (True == False)-->ans: False\n",
      "\n",
      "\n",
      "(not False) or (not True)-->ans: True\n",
      "\n",
      "\n",
      "not (5 > 4)-->ans: False\n",
      "\n",
      "\n",
      "(5 > 4) or (3 == 5)-->ans: True\n",
      "\n",
      "\n",
      "not ((5 > 4) or (3 == 5))-->ans: False\n",
      "\n",
      "\n",
      "(True and True) and (True == False)-->ans: False\n",
      "\n",
      "\n",
      "(not False) or (not True)-->ans: True\n"
     ]
    }
   ],
   "source": [
    "print(\"(5 > 4) and (3 == 5)--->ans:\",(5 > 4) and (3 == 5))\n",
    "print(\"\\n\")\n",
    "print(\"not (5 > 4)-->ans:\",not (5 > 4))\n",
    "print(\"\\n\")\n",
    "print(\"(5 > 4) or (3 == 5)-->ans:\",(5 > 4) or (3 == 5))\n",
    "print(\"\\n\")\n",
    "print(\"not ((5 > 4) or (3 == 5))-->ans:\",not ((5 > 4) or (3 == 5)))\n",
    "print(\"\\n\")\n",
    "print(\"(True and True) and (True == False)-->ans:\",(True and True) and (True == False))\n",
    "print(\"\\n\")\n",
    "print(\"(not False) or (not True)-->ans:\",(not False) or (not True))\n",
    "print(\"\\n\")\n",
    "print(\"not (5 > 4)-->ans:\",not (5 > 4))\n",
    "print(\"\\n\")\n",
    "print(\"(5 > 4) or (3 == 5)-->ans:\",(5 > 4) or (3 == 5))\n",
    "print(\"\\n\")\n",
    "print(\"not ((5 > 4) or (3 == 5))-->ans:\",not ((5 > 4) or (3 == 5)))\n",
    "print(\"\\n\")\n",
    "print(\"(True and True) and (True == False)-->ans:\",(True and True) and (True == False))\n",
    "print(\"\\n\")\n",
    "print(\"(not False) or (not True)-->ans:\",(not False) or (not True))"
   ]
  },
  {
   "cell_type": "markdown",
   "metadata": {},
   "source": [
    "# 5. What are the six comparison operators?"
   ]
  },
  {
   "cell_type": "markdown",
   "metadata": {},
   "source": [
    "## ANSWER:\n",
    "### Types of Python Comparison Operators:\n",
    "### 1. Less than (<) --> It is denoted by ‘<’ and it is used to check if the left value is less than the right value or not.\n",
    "### 2. Greater than (>) --> It is denoted by ‘>’ symbol and it checks whether the value on the left side is greater than the right side.\n",
    "### 3. Less than or equal to (<=) --> The less than or equal to operator, denoted by ‘<=’ returns True when the left side operand is either less than or equal to the right side operand.\n",
    "### 4. Greater than or equal to (>=) --> The greater than or equal to operator, denoted by ‘>=’ returns True when the left side operand is either greater than or equal to the right side operand.\n",
    "### 5. Equal to (==) --> The equal to operator will return True when both the values on either side of the operator are equal. You can compare integers, float, and also strings.\n",
    "### 6. Not equal to (!=) --> The not equal to operator (!=) is opposite to the equal to operator. It returns true when the values on either side are unequal to each other."
   ]
  },
  {
   "cell_type": "markdown",
   "metadata": {},
   "source": [
    "# 6. How do you tell the difference between the equal to and assignment operators?Describe a condition and when you would use one. "
   ]
  },
  {
   "cell_type": "markdown",
   "metadata": {},
   "source": [
    "## ANSWER:\n",
    "### Equal to operator is use to check two values are equal or not but assignment operator is used to assign the values in python."
   ]
  },
  {
   "cell_type": "code",
   "execution_count": 16,
   "metadata": {},
   "outputs": [
    {
     "name": "stdout",
     "output_type": "stream",
     "text": [
      "False\n",
      "a = 10\n"
     ]
    }
   ],
   "source": [
    "# Equal To Operator\n",
    "if(10==20):\n",
    "    print(\"True\")\n",
    "else:\n",
    "    print(\"False\")\n",
    "    \n",
    "#Assignment operator\n",
    "a = 10  #here we have used assignment operator(=) to assign value of a which is 1\n",
    "print(\"a =\",a)"
   ]
  },
  {
   "cell_type": "markdown",
   "metadata": {},
   "source": [
    "# 7. Identify the three blocks in this code:"
   ]
  },
  {
   "cell_type": "markdown",
   "metadata": {},
   "source": [
    "## ANSWER:\n",
    "### Since spam =0 , the 2 blocks of if statement will not be executed. Thus else block will be executed."
   ]
  },
  {
   "cell_type": "code",
   "execution_count": 33,
   "metadata": {},
   "outputs": [
    {
     "name": "stdout",
     "output_type": "stream",
     "text": [
      "ham\n",
      "spam\n",
      "spam\n"
     ]
    }
   ],
   "source": [
    "spam = 0\n",
    "if spam == 10: #False\n",
    "    print('eggs')\n",
    "if(spam>5): #False\n",
    "    print('bacon')\n",
    "else: #will enter here\n",
    "    print('ham')\n",
    "    print('spam')\n",
    "    print('spam')"
   ]
  },
  {
   "cell_type": "markdown",
   "metadata": {},
   "source": [
    "# 8. Write code that prints Hello if 1 is stored in spam, prints Howdy if 2 is stored in spam, and prints Greetings! if anything else is stored in spam."
   ]
  },
  {
   "cell_type": "code",
   "execution_count": 17,
   "metadata": {},
   "outputs": [
    {
     "name": "stdout",
     "output_type": "stream",
     "text": [
      "Enter a number: 1\n",
      "Hello\n"
     ]
    }
   ],
   "source": [
    "spam=int(input(\"Enter a number: \"))\n",
    "\n",
    "if spam==1:\n",
    "    print(\"Hello\")\n",
    "elif spam==2:\n",
    "    print(\"Howdy\")\n",
    "else:\n",
    "    print(\"Greetings!\")"
   ]
  },
  {
   "cell_type": "markdown",
   "metadata": {},
   "source": [
    "# 9. If your programme is stuck in an endless loop, what keys you’ll press?"
   ]
  },
  {
   "cell_type": "markdown",
   "metadata": {},
   "source": [
    "## ANSWER:\n",
    "#### PRESS --> CTRL + C"
   ]
  },
  {
   "cell_type": "markdown",
   "metadata": {},
   "source": [
    "# 10. How can you tell the difference between break and continue?"
   ]
  },
  {
   "cell_type": "markdown",
   "metadata": {},
   "source": [
    "## ANSWER:\n",
    "### The main difference between break and continue is that break is used for immediate termination of loop. On the other hand, 'continue' terminate the current iteration and resumes the control to the next iteration of the loop."
   ]
  },
  {
   "cell_type": "code",
   "execution_count": 24,
   "metadata": {},
   "outputs": [
    {
     "name": "stdout",
     "output_type": "stream",
     "text": [
      "0 1 2 3 4 \n",
      "--------------\n",
      "0 1 2 3 4 6 7 8 9 "
     ]
    }
   ],
   "source": [
    "# for example\n",
    "# use of break\n",
    "x=10\n",
    "for i in range(10):\n",
    "    if i==5:\n",
    "        break\n",
    "    print(i, end= \" \")\n",
    "    i+=1\n",
    "print('\\n--------------')\n",
    "#use of  continue\n",
    "for i in range(10):\n",
    "    if i==5:\n",
    "        continue\n",
    "    print(i, end= \" \")\n",
    "    i+=1"
   ]
  },
  {
   "cell_type": "markdown",
   "metadata": {},
   "source": [
    "# 11. In a for loop, what is the difference between range(10), range(0, 10), and range(0, 10, 1)?"
   ]
  },
  {
   "cell_type": "markdown",
   "metadata": {},
   "source": [
    "## ANSWER:\n",
    "### There is no difference between any of the above. Every range function will run from 0 to 9.\n",
    "### Range function has three parameters in their body.That is range(start=0,end,steps/jump=+1) it has 2 default parameters i.e. start and steps but we have to give value for end parameter."
   ]
  },
  {
   "cell_type": "code",
   "execution_count": 29,
   "metadata": {},
   "outputs": [
    {
     "name": "stdout",
     "output_type": "stream",
     "text": [
      "When we use range(10)\n",
      "Output:\n",
      "0 1 2 3 4 5 6 7 8 9 \n",
      "-------------\n",
      "When we use range(0, 10)\n",
      "Output:\n",
      "0 1 2 3 4 5 6 7 8 9 \n",
      "-------------\n",
      "When we use range(0, 10, 1)\n",
      "Output:\n",
      "0 1 2 3 4 5 6 7 8 9 "
     ]
    }
   ],
   "source": [
    "# For example\n",
    "print(\"When we use range(10)\")\n",
    "print(\"Output:\")\n",
    "for i in range(10):\n",
    "    print(i, end =\" \")\n",
    "print(\"\\n-------------\")\n",
    "\n",
    "print(\"When we use range(0, 10)\")\n",
    "print(\"Output:\")\n",
    "for i in range(0, 10):\n",
    "    print(i, end =\" \")\n",
    "print(\"\\n-------------\")\n",
    "\n",
    "print(\"When we use range(0, 10, 1)\")\n",
    "print(\"Output:\")\n",
    "for i in range(0, 10, 1):\n",
    "    print(i, end =\" \")\n"
   ]
  },
  {
   "cell_type": "markdown",
   "metadata": {},
   "source": [
    "# 12. Write a short program that prints the numbers 1 to 10 using a for loop. Then write an equivalent program that prints the numbers 1 to 10 using a while loop."
   ]
  },
  {
   "cell_type": "code",
   "execution_count": 32,
   "metadata": {},
   "outputs": [
    {
     "name": "stdout",
     "output_type": "stream",
     "text": [
      "Using For Loop\n",
      "1 2 3 4 5 6 7 8 9 10 \n",
      "----------\n",
      "Using While Loop\n",
      "1 2 3 4 5 6 7 8 9 10 "
     ]
    }
   ],
   "source": [
    "print(\"Using For Loop\")\n",
    "for i in range(1 , 11):\n",
    "    print(i,end=\" \")\n",
    "print(\"\\n----------\")\n",
    "\n",
    "print(\"Using While Loop\")\n",
    "i=1\n",
    "while i<11:\n",
    "    print(i,end=\" \")\n",
    "    i = i+1"
   ]
  },
  {
   "cell_type": "markdown",
   "metadata": {},
   "source": [
    "# 13. If you had a function named bacon() inside a module named spam, how would you call it after importing spam?"
   ]
  },
  {
   "cell_type": "markdown",
   "metadata": {},
   "source": [
    "## ANSWER:\n",
    "### import spam spam.bacon()"
   ]
  }
 ],
 "metadata": {
  "kernelspec": {
   "display_name": "Python 3",
   "language": "python",
   "name": "python3"
  },
  "language_info": {
   "codemirror_mode": {
    "name": "ipython",
    "version": 3
   },
   "file_extension": ".py",
   "mimetype": "text/x-python",
   "name": "python",
   "nbconvert_exporter": "python",
   "pygments_lexer": "ipython3",
   "version": "3.8.3"
  }
 },
 "nbformat": 4,
 "nbformat_minor": 4
}
